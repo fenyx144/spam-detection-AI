{
  "nbformat": 4,
  "nbformat_minor": 0,
  "metadata": {
    "colab": {
      "provenance": []
    },
    "kernelspec": {
      "name": "python3",
      "display_name": "Python 3"
    },
    "language_info": {
      "name": "python"
    }
  },
  "cells": [
    {
      "cell_type": "code",
      "execution_count": 3,
      "metadata": {
        "colab": {
          "base_uri": "https://localhost:8080/"
        },
        "id": "TB2h0Qv6XMZm",
        "outputId": "878a7610-2dd7-47c7-d273-51e5d60681c5"
      },
      "outputs": [
        {
          "output_type": "stream",
          "name": "stdout",
          "text": [
            "   label                                            message\n",
            "0      0  Go until jurong point, crazy.. Available only ...\n",
            "1      0                      Ok lar... Joking wif u oni...\n",
            "2      1  Free entry in 2 a wkly comp to win FA Cup fina...\n",
            "3      0  U dun say so early hor... U c already then say...\n",
            "4      0  Nah I don't think he goes to usf, he lives aro...\n",
            "Accuracy: 0.9772727272727273\n",
            "\n",
            "Classification Report:\n",
            "               precision    recall  f1-score   support\n",
            "\n",
            "           0       0.99      0.99      0.99      1453\n",
            "           1       0.91      0.92      0.91       219\n",
            "\n",
            "    accuracy                           0.98      1672\n",
            "   macro avg       0.95      0.95      0.95      1672\n",
            "weighted avg       0.98      0.98      0.98      1672\n",
            "\n",
            "\n",
            "¿Es spam?: Sí\n"
          ]
        }
      ],
      "source": [
        "# Importar bibliotecas\n",
        "import pandas as pd\n",
        "from sklearn.feature_extraction.text import CountVectorizer\n",
        "from sklearn.model_selection import train_test_split\n",
        "from sklearn.naive_bayes import MultinomialNB\n",
        "from sklearn.metrics import accuracy_score, classification_report\n",
        "\n",
        "# Cargar el dataset\n",
        "data = pd.read_csv(\"spam.csv\", encoding=\"latin-1\")\n",
        "\n",
        "# Seleccionar solo las columnas necesarias\n",
        "data = data.iloc[:, [0, 1]]  # Selecciona solo la primera y segunda columna\n",
        "data.columns = [\"label\", \"message\"]  # Renombra las columnas\n",
        "\n",
        "\n",
        "# Mapear las etiquetas a valores binarios\n",
        "data['label'] = data['label'].map({'spam': 1, 'ham': 0})\n",
        "\n",
        "# Previsualizar los datos\n",
        "print(data.head())\n",
        "\n",
        "# Dividir en características (X) y etiquetas (y)\n",
        "X = data['message']\n",
        "y = data['label']\n",
        "\n",
        "# Vectorizar los mensajes de texto\n",
        "vectorizer = CountVectorizer(stop_words='english')\n",
        "X_vectors = vectorizer.fit_transform(X)\n",
        "\n",
        "# Dividir en conjuntos de entrenamiento y prueba\n",
        "X_train, X_test, y_train, y_test = train_test_split(X_vectors, y, test_size=0.3, random_state=42)\n",
        "\n",
        "# Entrenar el modelo Naive Bayes\n",
        "model = MultinomialNB()\n",
        "model.fit(X_train, y_train)\n",
        "\n",
        "# Hacer predicciones\n",
        "y_pred = model.predict(X_test)\n",
        "\n",
        "# Evaluar el modelo\n",
        "print(\"Accuracy:\", accuracy_score(y_test, y_pred))\n",
        "print(\"\\nClassification Report:\\n\", classification_report(y_test, y_pred))\n",
        "\n",
        "# Probar con un mensaje nuevo\n",
        "test_message = [\"Congratulations! You've won a $1,000 Walmart gift card. Call now!\"]\n",
        "test_vector = vectorizer.transform(test_message)\n",
        "prediction = model.predict(test_vector)\n",
        "print(\"\\n¿Es spam?:\", \"Sí\" if prediction[0] == 1 else \"No\")\n"
      ]
    }
  ]
}